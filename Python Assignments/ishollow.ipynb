{
 "cells": [
  {
   "cell_type": "markdown",
   "metadata": {},
   "source": [
    "A list is said to be hollow if it contains 3 or more zeroes in the middle that are preceded and\n",
    "followed by the same number of non-zero elements. \n",
    "\n",
    "Write a function named isHollow that accepts an\n",
    "integer list and returns 1 if it is a hollow list, otherwise it returns 0.\n",
    "\n",
    "Examples: isHollow({1,2,4,0,0,0,3,4,5}) returns 1. isHollow ({1,2,0,0,0,3,4,5}) returns 0. isHollow\n",
    "({1,2,4,9, 0,0,0,3,4, 5}) returns 0. isHollow ({1,2, 0,0, 3,4}) returns 0."
   ]
  },
  {
   "cell_type": "markdown",
   "metadata": {},
   "source": [
    "Solution 1: By Me"
   ]
  },
  {
   "cell_type": "code",
   "execution_count": 9,
   "metadata": {},
   "outputs": [
    {
     "name": "stdout",
     "output_type": "stream",
     "text": [
      "1\n",
      "0\n",
      "0\n",
      "0\n"
     ]
    }
   ],
   "source": [
    "# defining isHollow function\n",
    "\n",
    "def isHollow(li):\n",
    "    if len(li)<3:\n",
    "        return 0\n",
    "    \n",
    "    zCount = li.count(0)\n",
    "    if zCount!=3:\n",
    "        return 0\n",
    "    \n",
    "    zeroIdx = li.index(0)\n",
    "    \n",
    "    for i in range(zeroIdx, zeroIdx+2):\n",
    "        if li[i]!=0:\n",
    "            return 0\n",
    "    \n",
    "    precLength = len(li[0: zeroIdx])\n",
    "    succLength = len(li[zeroIdx+3:])\n",
    "    \n",
    "    if precLength!=succLength:\n",
    "        return 0\n",
    "    \n",
    "    return 1\n",
    "    \n",
    "\n",
    "\n",
    "# given lists\n",
    "\n",
    "list1 = [1,2,4,0,0,0,3,4,5] # true\n",
    "print(isHollow(list1))\n",
    "\n",
    "list2 = [1,2,0,0,0,3,4,5]   #false\n",
    "print(isHollow(list2))\n",
    "\n",
    "list3 = [1,2,4,9,0,0,0,3,4,5]   #false\n",
    "print(isHollow(list3))\n",
    "\n",
    "list4 = [1,2,0,0,3,4]   #false\n",
    "print(isHollow(list4))\n"
   ]
  },
  {
   "cell_type": "markdown",
   "metadata": {},
   "source": [
    "Solution 2: By using AI (ChatGPT)"
   ]
  },
  {
   "cell_type": "code",
   "execution_count": 10,
   "metadata": {},
   "outputs": [
    {
     "name": "stdout",
     "output_type": "stream",
     "text": [
      "1\n",
      "0\n",
      "0\n",
      "0\n"
     ]
    }
   ],
   "source": [
    "def isHollow(lst):\n",
    "    n = len(lst)\n",
    "    \n",
    "    # Check if there are at least 3 zeros in the list\n",
    "    if lst.count(0) < 3:\n",
    "        return 0\n",
    "    \n",
    "    # Find the start and end indices of the first sequence of 3 or more zeros\n",
    "    first_zero_index = -1\n",
    "    zero_count = 0\n",
    "    \n",
    "    for i in range(n):\n",
    "        if lst[i] == 0:\n",
    "            if first_zero_index == -1:\n",
    "                first_zero_index = i\n",
    "            zero_count += 1\n",
    "            if zero_count >= 3:\n",
    "                break\n",
    "        else:\n",
    "            zero_count = 0\n",
    "            first_zero_index = -1\n",
    "    \n",
    "    if zero_count < 3:\n",
    "        return 0\n",
    "    \n",
    "    # Find the last index of the sequence of 3 or more zeros\n",
    "    last_zero_index = first_zero_index + zero_count - 1\n",
    "    \n",
    "    # Check if the number of non-zero elements before and after the zeros are the same\n",
    "    left_non_zero_count = first_zero_index\n",
    "    right_non_zero_count = n - last_zero_index - 1\n",
    "    \n",
    "    if left_non_zero_count == right_non_zero_count:\n",
    "        return 1\n",
    "    else:\n",
    "        return 0\n",
    "\n",
    "# Test cases\n",
    "print(isHollow([1, 2, 4, 0, 0, 0, 3, 4, 5]))  # Expected output: 1\n",
    "print(isHollow([1, 2, 0, 0, 0, 3, 4, 5]))    # Expected output: 0\n",
    "print(isHollow([1, 2, 4, 9, 0, 0, 0, 3, 4, 5]))  # Expected output: 0\n",
    "print(isHollow([1, 2, 0, 0, 3, 4]))  # Expected output: 0\n"
   ]
  }
 ],
 "metadata": {
  "kernelspec": {
   "display_name": "Python 3",
   "language": "python",
   "name": "python3"
  },
  "language_info": {
   "codemirror_mode": {
    "name": "ipython",
    "version": 3
   },
   "file_extension": ".py",
   "mimetype": "text/x-python",
   "name": "python",
   "nbconvert_exporter": "python",
   "pygments_lexer": "ipython3",
   "version": "3.11.8"
  }
 },
 "nbformat": 4,
 "nbformat_minor": 2
}
