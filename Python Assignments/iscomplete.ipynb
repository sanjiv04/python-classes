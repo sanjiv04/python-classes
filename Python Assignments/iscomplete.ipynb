{
 "cells": [
  {
   "cell_type": "markdown",
   "metadata": {},
   "source": [
    "Q. A list is defined to be complete if the conditions (1), (4), and (5) below hold:"
   ]
  },
  {
   "cell_type": "markdown",
   "metadata": {},
   "source": [
    "1. The list contains even numbers\n",
    "2. Let min be the smallest even number in the list\n",
    "3. Let max be the largest even number in the list\n",
    "4. Min does not equal to max\n",
    "5. All numbers between min and max are in the list"
   ]
  },
  {
   "cell_type": "markdown",
   "metadata": {},
   "source": [
    "Solution #1: My Version"
   ]
  },
  {
   "cell_type": "code",
   "execution_count": 1,
   "metadata": {},
   "outputs": [
    {
     "name": "stdout",
     "output_type": "stream",
     "text": [
      "1\n",
      "0\n"
     ]
    }
   ],
   "source": [
    "# defining isComplete function to check the conditions\n",
    "\n",
    "def isComplete(l):\n",
    "    # to check if the list contains even numbers\n",
    "    c1, c2, c3 = False, False, False        # to check all three conditions\n",
    "    for n in l:\n",
    "        if n%2==0:\n",
    "            c1=True\n",
    "            break\n",
    "\n",
    "    # to find min and max even numbers\n",
    "    if c1:\n",
    "        sorList = sorted(l)\n",
    "        global minNum, maxNum\n",
    "        minNum , maxNum = 1, 1\n",
    "        for n in sorList:\n",
    "            if(n%2==0):\n",
    "                minNum = n\n",
    "                break\n",
    "        revList = sorted(l, reverse=True)        \n",
    "        for n in revList:\n",
    "            if(n%2==0):\n",
    "                maxNum = n\n",
    "                break\n",
    "        \n",
    "        if minNum!=maxNum:\n",
    "            c2=True\n",
    "    \n",
    "    # to check if numbers between min even and max even are present in the list\n",
    "    \n",
    "    if c2:\n",
    "        sorList = sorted(l)\n",
    "        minIdx = sorList.index(minNum) \n",
    "        maxIdx = sorList.index(maxNum)\n",
    "        \n",
    "        startIdx = sorList.index(minNum)+1\n",
    "        \n",
    "        for i in range(minIdx+1, maxIdx):\n",
    "            if sorList[startIdx]!=minNum:\n",
    "                break\n",
    "            startIdx = i+1\n",
    "        \n",
    "        subList = list(range(minNum+1, maxNum))\n",
    "        \n",
    "        for i in range(len(subList)):\n",
    "            if subList[i] != sorList[startIdx+i]:\n",
    "                c3 = False\n",
    "                break\n",
    "            c3 = True\n",
    "    \n",
    "    if c3:\n",
    "        return 1\n",
    "    return 0\n",
    "\n",
    "\n",
    "# given list\n",
    "list1 = [-5, 6, 2, 3, 2, 4, 5, 11, 8, 7]\n",
    "print(isComplete(list1))\n",
    "\n",
    "list2 = [5, 7, 9, 13]\n",
    "print(isComplete(list2))"
   ]
  },
  {
   "cell_type": "markdown",
   "metadata": {},
   "source": [
    "Solution #2: Solved with AI (ChatGPT)"
   ]
  },
  {
   "cell_type": "code",
   "execution_count": 2,
   "metadata": {},
   "outputs": [
    {
     "name": "stdout",
     "output_type": "stream",
     "text": [
      "1\n",
      "0\n"
     ]
    }
   ],
   "source": [
    "# this code is generated to see where I can improve\n",
    "\n",
    "def isComplete(lst):\n",
    "    # Filter even numbers from the list\n",
    "    even_numbers = [num for num in lst if num % 2 == 0]\n",
    "\n",
    "    # Condition 1: The list contains at least one even number\n",
    "    if not even_numbers:\n",
    "        return 0\n",
    "\n",
    "    # Condition 2: Let min be the smallest even number in the list\n",
    "    min_num = min(even_numbers)\n",
    "\n",
    "    # Condition 3: Let max be the largest even number in the list\n",
    "    max_num = max(even_numbers)\n",
    "\n",
    "    # Condition 4: Min does not equal to max\n",
    "    if min_num == max_num:\n",
    "        return 0\n",
    "\n",
    "    # Condition 5: All numbers between min and max are in the list\n",
    "    for i in range(min_num + 2, max_num, 2):\n",
    "        if i not in even_numbers:\n",
    "            return 0\n",
    "    return 1\n",
    "\n",
    "\n",
    "# given list\n",
    "list1 = [-5, 6, 2, 3, 2, 4, 5, 11, 8, 7]\n",
    "print(isComplete(list1))\n",
    "\n",
    "list2 = [5, 7, 9, 13]\n",
    "print(isComplete(list2))\n"
   ]
  }
 ],
 "metadata": {
  "kernelspec": {
   "display_name": "Python 3",
   "language": "python",
   "name": "python3"
  },
  "language_info": {
   "codemirror_mode": {
    "name": "ipython",
    "version": 3
   },
   "file_extension": ".py",
   "mimetype": "text/x-python",
   "name": "python",
   "nbconvert_exporter": "python",
   "pygments_lexer": "ipython3",
   "version": "3.12.4"
  }
 },
 "nbformat": 4,
 "nbformat_minor": 2
}
