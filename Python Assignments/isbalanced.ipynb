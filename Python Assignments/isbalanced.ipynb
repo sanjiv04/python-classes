{
 "cells": [
  {
   "cell_type": "markdown",
   "metadata": {},
   "source": [
    "Q. A list is called balanced if its even numbered elements are even and odd numbered elements are odd. Write a function called isBalanced() to check is a list is balanced or not. "
   ]
  },
  {
   "cell_type": "markdown",
   "metadata": {},
   "source": [
    "Solution #1: My Version"
   ]
  },
  {
   "cell_type": "code",
   "execution_count": 4,
   "metadata": {},
   "outputs": [
    {
     "name": "stdout",
     "output_type": "stream",
     "text": [
      "1\n",
      "0\n"
     ]
    }
   ],
   "source": [
    "# defining isBalanced function\n",
    "\n",
    "def isBalanced(l):\n",
    "    \n",
    "    even_nums = [num for num in l if num%2==0]\n",
    "    even_num_idx = [i for i, x in enumerate(l) if x in even_nums]\n",
    "    odd_nums = [num for num in l if num%2!=0]\n",
    "    odd_num_idx = [i for i, x in enumerate(l) if x in odd_nums]\n",
    "    \n",
    "    if not even_nums or not all(i for i in even_num_idx if i%2==2):\n",
    "        return 0\n",
    "    \n",
    "    if not odd_nums or not all(i for i in odd_num_idx if i%2!=2):\n",
    "        return 0\n",
    "    \n",
    "    return 1\n",
    "\n",
    "\n",
    "# given lists\n",
    "list1 = [2, 3, 6, 7]\n",
    "print(isBalanced(list1))\n",
    "\n",
    "list2 = [7, 15, 2, 3]\n",
    "print(isBalanced(list2))"
   ]
  },
  {
   "cell_type": "markdown",
   "metadata": {},
   "source": [
    "Solution #2: Solved with AI (ChatGPT)"
   ]
  },
  {
   "cell_type": "code",
   "execution_count": 6,
   "metadata": {},
   "outputs": [
    {
     "name": "stdout",
     "output_type": "stream",
     "text": [
      "1\n",
      "0\n"
     ]
    }
   ],
   "source": [
    "def isBalanced(lst):\n",
    "    for i in range(len(lst)):\n",
    "        # Check if index is even and value is odd\n",
    "        if i % 2 == 0 and lst[i] % 2 != 0:\n",
    "            return 0\n",
    "        # Check if index is odd and value is even\n",
    "        elif i % 2 != 0 and lst[i] % 2 == 0:\n",
    "            return 0\n",
    "    return 1\n",
    "\n",
    "\n",
    "# given lists\n",
    "list1 = [2, 3, 6, 7]\n",
    "print(isBalanced(list1))\n",
    "\n",
    "list2 = [7, 15, 2, 3]\n",
    "print(isBalanced(list2))"
   ]
  }
 ],
 "metadata": {
  "kernelspec": {
   "display_name": "Python 3",
   "language": "python",
   "name": "python3"
  },
  "language_info": {
   "codemirror_mode": {
    "name": "ipython",
    "version": 3
   },
   "file_extension": ".py",
   "mimetype": "text/x-python",
   "name": "python",
   "nbconvert_exporter": "python",
   "pygments_lexer": "ipython3",
   "version": "3.12.4"
  }
 },
 "nbformat": 4,
 "nbformat_minor": 2
}
